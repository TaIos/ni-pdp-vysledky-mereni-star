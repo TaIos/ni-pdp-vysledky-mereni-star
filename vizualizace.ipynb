{
 "cells": [
  {
   "cell_type": "code",
   "execution_count": 1,
   "id": "78826500-1228-43a2-b082-b461d21a0d05",
   "metadata": {},
   "outputs": [],
   "source": [
    "import pathlib\n",
    "import re"
   ]
  },
  {
   "cell_type": "code",
   "execution_count": 2,
   "id": "865de26d-0889-4cce-ae90-51b4c52b5572",
   "metadata": {},
   "outputs": [],
   "source": [
    "class RunResult:\n",
    "    Serial=\"Serial\"\n",
    "    OpenMP=\"OpenMP\"\n",
    "    MPI=\"MPI\"\n",
    "    \n",
    "    def __init__(self, name, millis, procCnt, runType, nodeCnt=None):\n",
    "        self.name = name\n",
    "        self.millis = millis\n",
    "        self.procCnt = procCnt\n",
    "        self.nodeCnt = nodeCnt\n",
    "        self.runType = runType\n",
    "            \n",
    "        \n",
    "    def __str__(self):\n",
    "        return f\"\"\"\n",
    "        {self.name} ({self.runType})\\n\n",
    "        \\tDuration [ms]: {self.millis}\\n\n",
    "        \\tproc: {self.procCnt}\\n\n",
    "        \\tnode: {self.nodeCnt}\\n\n",
    "        \"\"\"\n",
    "class BaseParser:\n",
    "    \n",
    "    @staticmethod \n",
    "    def parseStdout(stdout):\n",
    "        with open(stdout) as file:\n",
    "            data = file.read().splitlines()\n",
    "            \n",
    "        millis = None\n",
    "        for i, line in enumerate(data):\n",
    "            if re.match(f'^Cena', line):\n",
    "                millis = int(data[i+1].split()[2])\n",
    "                break\n",
    "                \n",
    "        return millis"
   ]
  },
  {
   "cell_type": "markdown",
   "id": "17316db3-dd04-4028-97c4-5ca0184ad137",
   "metadata": {},
   "source": [
    "# Serial"
   ]
  },
  {
   "cell_type": "code",
   "execution_count": 3,
   "id": "06196782-f500-4b6e-8479-bf8ce8c717f7",
   "metadata": {},
   "outputs": [
    {
     "name": "stdout",
     "output_type": "stream",
     "text": [
      "Killed {'saj6-p1'}\n"
     ]
    }
   ],
   "source": [
    "class SerialParser(BaseParser):\n",
    "    \n",
    "    @staticmethod \n",
    "    def parseFilename(filename):\n",
    "        return 1, str(filename)\n",
    "    \n",
    "    @staticmethod \n",
    "    def parse(path):\n",
    "        procCnt, name = SerialParser.parseFilename(path.name)\n",
    "        millis = SerialParser.parseStdout(path / 'stdout')\n",
    "        return RunResult(name, millis, procCnt, RunResult.Serial)\n",
    "    \n",
    "\n",
    "pSerial = pathlib.Path('serial')\n",
    "serialLst = []\n",
    "for p in pSerial.glob('*'):\n",
    "    serialLst.append(SerialParser.parse(p))\n",
    "    \n",
    "serialKilled = set([x.name+'-p'+str(x.procCnt) for x in serialLst if x.millis is None])\n",
    "print(f'Killed {serialKilled}')"
   ]
  },
  {
   "cell_type": "markdown",
   "id": "99d44fb2-a71f-4b3e-bb10-68723b8dbc75",
   "metadata": {},
   "source": [
    "# OpenMP"
   ]
  },
  {
   "cell_type": "code",
   "execution_count": 4,
   "id": "44289451-0dd9-417d-aba6-7022bf31515d",
   "metadata": {},
   "outputs": [],
   "source": [
    "class OpenMpParser(BaseParser):\n",
    "    \n",
    "    @staticmethod \n",
    "    def parseFilename(filename):\n",
    "        sp = str(filename).split('-')\n",
    "        name = sp[0]\n",
    "        procCnt = int(sp[1][1:])\n",
    "        return procCnt, name\n",
    "    \n",
    "    @staticmethod \n",
    "    def parse(path):\n",
    "        procCnt, name = OpenMpParser.parseFilename(path.name)\n",
    "        millis = OpenMpParser.parseStdout(path / 'stdout')\n",
    "        return RunResult(name, millis, procCnt, RunResult.OpenMP)"
   ]
  },
  {
   "cell_type": "markdown",
   "id": "0b500b9f-5025-4740-bc19-8ea129a38d02",
   "metadata": {},
   "source": [
    "## Task parallelism"
   ]
  },
  {
   "cell_type": "code",
   "execution_count": 8,
   "id": "e3cbac6c-0928-426f-8a94-7637f5dda027",
   "metadata": {},
   "outputs": [
    {
     "name": "stdout",
     "output_type": "stream",
     "text": [
      "Killed {'saj12-p16', 'saj12-p2'}\n"
     ]
    }
   ],
   "source": [
    "pTaskPar = pathlib.Path('openmp/task-par/out')\n",
    "taskParLst = []\n",
    "for p in pTaskPar.glob('*'):\n",
    "    taskParLst.append(OpenMpParser.parse(p))\n",
    "    \n",
    "taskKilled = set([ x.name+'-p'+str(x.procCnt) for x in taskParLst if x.millis is None])\n",
    "print(f'Killed {taskKilled}')"
   ]
  },
  {
   "cell_type": "markdown",
   "id": "0d151b94-871a-4f03-ae34-ae0343cb7999",
   "metadata": {},
   "source": [
    "## Task parallelism [threshold]"
   ]
  },
  {
   "cell_type": "code",
   "execution_count": 6,
   "id": "902e2a34-5097-47bb-909a-b8ae4ab7d9fb",
   "metadata": {},
   "outputs": [
    {
     "name": "stdout",
     "output_type": "stream",
     "text": [
      "Killed {'saj12-p6', 'saj12-p4', 'saj12-p10', 'saj12-p16', 'saj12-p2', 'saj12-p8'}\n"
     ]
    }
   ],
   "source": [
    "pTaskParThr = pathlib.Path('openmp/task-par-threshold/out-t6')\n",
    "taskParLstThr = []\n",
    "for p in pTaskParThr.glob('*'):\n",
    "    taskParLstThr.append(OpenMpParser.parse(p))\n",
    "    \n",
    "taskKilled = set([ x.name+'-p'+str(x.procCnt) for x in taskParLstThr if x.millis is None])\n",
    "print(f'Killed {taskKilled}')"
   ]
  },
  {
   "cell_type": "markdown",
   "id": "94401c0b-27bd-4943-954b-dad65c1397ee",
   "metadata": {},
   "source": [
    "## Data parallelism "
   ]
  },
  {
   "cell_type": "code",
   "execution_count": 7,
   "id": "70847540-9411-476f-b3ea-900858be734a",
   "metadata": {},
   "outputs": [
    {
     "name": "stdout",
     "output_type": "stream",
     "text": [
      "Killed set()\n"
     ]
    }
   ],
   "source": [
    "pDataPar = pathlib.Path('openmp/data-par/out0')\n",
    "dataParLst = []\n",
    "for p in pDataPar.glob('*'):\n",
    "    dataParLst.append(OpenMpParser.parse(p))\n",
    "\n",
    "dataKilled = set([x.name+'-p'+str(x.procCnt) for x in dataParLst if x.millis is None])\n",
    "print(f'Killed {dataKilled}')"
   ]
  },
  {
   "cell_type": "markdown",
   "id": "eb01ebfa-38f8-4155-adb2-e599d5776aff",
   "metadata": {},
   "source": [
    "# MPI"
   ]
  },
  {
   "cell_type": "code",
   "execution_count": null,
   "id": "bc06203b-b015-4a4d-9d96-604a0cadab38",
   "metadata": {},
   "outputs": [],
   "source": []
  }
 ],
 "metadata": {
  "kernelspec": {
   "display_name": "Python 3",
   "language": "python",
   "name": "python3"
  },
  "language_info": {
   "codemirror_mode": {
    "name": "ipython",
    "version": 3
   },
   "file_extension": ".py",
   "mimetype": "text/x-python",
   "name": "python",
   "nbconvert_exporter": "python",
   "pygments_lexer": "ipython3",
   "version": "3.9.4"
  }
 },
 "nbformat": 4,
 "nbformat_minor": 5
}
