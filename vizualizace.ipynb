{
 "cells": [
  {
   "cell_type": "code",
   "execution_count": 1,
   "id": "78826500-1228-43a2-b082-b461d21a0d05",
   "metadata": {},
   "outputs": [],
   "source": [
    "import pathlib\n",
    "import re"
   ]
  },
  {
   "cell_type": "code",
   "execution_count": 2,
   "id": "865de26d-0889-4cce-ae90-51b4c52b5572",
   "metadata": {},
   "outputs": [],
   "source": [
    "class RunResult:\n",
    "    Serial=\"Serial\"\n",
    "    OpenMP=\"OpenMP\"\n",
    "    MPI=\"MPI\"\n",
    "    \n",
    "    def __init__(self, name, millis, procCnt, runType, nodeCnt=None):\n",
    "        self.name = name\n",
    "        self.millis = millis\n",
    "        self.procCnt = procCnt\n",
    "        self.nodeCnt = nodeCnt\n",
    "        self.runType = runType\n",
    "            \n",
    "        \n",
    "    def __str__(self):\n",
    "        return f\"\"\"\n",
    "        {self.name} ({self.runType})\\n\n",
    "        \\tDuration [ms]: {self.millis}\\n\n",
    "        \\tproc: {self.procCnt}\\n\n",
    "        \\tnode: {self.nodeCnt}\\n\n",
    "        \"\"\"\n",
    "class BaseParser:\n",
    "    \n",
    "    @staticmethod \n",
    "    def parseStdout(stdout):\n",
    "        with open(stdout) as file:\n",
    "            data = file.read().splitlines()\n",
    "            \n",
    "        millis = None\n",
    "        for i, line in enumerate(data):\n",
    "            if re.match(f'^Cena', line):\n",
    "                millis = int(data[i+1].split()[2])\n",
    "                break\n",
    "                \n",
    "        return millis"
   ]
  },
  {
   "cell_type": "markdown",
   "id": "17316db3-dd04-4028-97c4-5ca0184ad137",
   "metadata": {},
   "source": [
    "# Serial"
   ]
  },
  {
   "cell_type": "code",
   "execution_count": 3,
   "id": "06196782-f500-4b6e-8479-bf8ce8c717f7",
   "metadata": {},
   "outputs": [
    {
     "name": "stdout",
     "output_type": "stream",
     "text": [
      "Killed {'saj6-p1'}\n"
     ]
    }
   ],
   "source": [
    "class SerialParser(BaseParser):\n",
    "    \n",
    "    @staticmethod \n",
    "    def parseFilename(filename):\n",
    "        return 1, str(filename)\n",
    "    \n",
    "    @staticmethod \n",
    "    def parse(path):\n",
    "        procCnt, name = SerialParser.parseFilename(path.name)\n",
    "        millis = SerialParser.parseStdout(path / 'stdout')\n",
    "        return RunResult(name, millis, procCnt, RunResult.Serial)\n",
    "    \n",
    "\n",
    "pSerial = pathlib.Path('serial')\n",
    "serialLst = []\n",
    "for p in pSerial.glob('*'):\n",
    "    serialLst.append(SerialParser.parse(p))\n",
    "    \n",
    "serialKilled = set([x.name+'-p'+str(x.procCnt) for x in serialLst if x.millis is None])\n",
    "print(f'Killed {serialKilled}')"
   ]
  },
  {
   "cell_type": "markdown",
   "id": "99d44fb2-a71f-4b3e-bb10-68723b8dbc75",
   "metadata": {},
   "source": [
    "# OpenMP"
   ]
  },
  {
   "cell_type": "code",
   "execution_count": 4,
   "id": "44289451-0dd9-417d-aba6-7022bf31515d",
   "metadata": {},
   "outputs": [],
   "source": [
    "class OpenMpParser(BaseParser):\n",
    "    \n",
    "    @staticmethod \n",
    "    def parseFilename(filename):\n",
    "        sp = str(filename).split('-')\n",
    "        name = sp[0]\n",
    "        procCnt = int(sp[1][1:])\n",
    "        return procCnt, name\n",
    "    \n",
    "    @staticmethod \n",
    "    def parse(path, runType=None):\n",
    "        runType = runType or RunResult.OpenMP\n",
    "        procCnt, name = OpenMpParser.parseFilename(path.name)\n",
    "        millis = OpenMpParser.parseStdout(path / 'stdout')\n",
    "        return RunResult(name, millis, procCnt, runType)"
   ]
  },
  {
   "cell_type": "markdown",
   "id": "0b500b9f-5025-4740-bc19-8ea129a38d02",
   "metadata": {},
   "source": [
    "## Task parallelism"
   ]
  },
  {
   "cell_type": "code",
   "execution_count": 5,
   "id": "e3cbac6c-0928-426f-8a94-7637f5dda027",
   "metadata": {},
   "outputs": [
    {
     "name": "stdout",
     "output_type": "stream",
     "text": [
      "Killed {'saj12-p16', 'saj12-p2'}\n"
     ]
    }
   ],
   "source": [
    "pTaskPar = pathlib.Path('openmp/task-par/out')\n",
    "taskParLst = []\n",
    "for p in pTaskPar.glob('*'):\n",
    "    taskParLst.append(OpenMpParser.parse(p, runType=\"openmp-task\"))\n",
    "    \n",
    "taskKilled = set([ x.name+'-p'+str(x.procCnt) for x in taskParLst if x.millis is None])\n",
    "print(f'Killed {taskKilled}')"
   ]
  },
  {
   "cell_type": "markdown",
   "id": "0d151b94-871a-4f03-ae34-ae0343cb7999",
   "metadata": {},
   "source": [
    "## Task parallelism [threshold]"
   ]
  },
  {
   "cell_type": "code",
   "execution_count": 6,
   "id": "902e2a34-5097-47bb-909a-b8ae4ab7d9fb",
   "metadata": {},
   "outputs": [
    {
     "name": "stdout",
     "output_type": "stream",
     "text": [
      "threshold | killed\n",
      "\t2: 13\n",
      "\t4: 6\n",
      "\t6: 18\n",
      "\t8: 11\n",
      "\t10: 12\n",
      "\t12: 9\n"
     ]
    }
   ],
   "source": [
    "taskParDict = dict.fromkeys([2, 4, 6, 8, 10, 12])\n",
    "\n",
    "for t in taskParDict.keys():\n",
    "    tmp = []\n",
    "    for p in pathlib.Path(f'openmp/task-par-threshold/out-t{t}').glob('*'):\n",
    "        tmp.append(OpenMpParser.parse(p, runType=\"openmp-task-threshold\"))\n",
    "    taskParDict[t] = tmp\n",
    "    \n",
    "print('threshold | killed')\n",
    "for t in taskParDict.keys():\n",
    "    print(f'\\t{t}: {len([x for x in taskParDict[t] if x.millis is not None])}')"
   ]
  },
  {
   "cell_type": "markdown",
   "id": "94401c0b-27bd-4943-954b-dad65c1397ee",
   "metadata": {},
   "source": [
    "## Data parallelism "
   ]
  },
  {
   "cell_type": "code",
   "execution_count": 7,
   "id": "70847540-9411-476f-b3ea-900858be734a",
   "metadata": {},
   "outputs": [
    {
     "name": "stdout",
     "output_type": "stream",
     "text": [
      "Killed set()\n"
     ]
    }
   ],
   "source": [
    "pDataPar = pathlib.Path('openmp/data-par/out0')\n",
    "dataParLst = []\n",
    "for p in pDataPar.glob('*'):\n",
    "    dataParLst.append(OpenMpParser.parse(p, runType=\"openmp-data\"))\n",
    "\n",
    "dataKilled = set([x.name+'-p'+str(x.procCnt) for x in dataParLst if x.millis is None])\n",
    "print(f'Killed {dataKilled}')"
   ]
  },
  {
   "cell_type": "markdown",
   "id": "eb01ebfa-38f8-4155-adb2-e599d5776aff",
   "metadata": {},
   "source": [
    "# MPI"
   ]
  },
  {
   "cell_type": "code",
   "execution_count": 8,
   "id": "f8f9ef38-775d-4b99-b883-ae71506ee398",
   "metadata": {},
   "outputs": [
    {
     "data": {
      "text/plain": [
       "['47.276555']"
      ]
     },
     "execution_count": 8,
     "metadata": {},
     "output_type": "execute_result"
    }
   ],
   "source": [
    "line = \"0: Elapsed time is 47.276555.\"\n",
    "re.findall(r'\\d+.\\d+', line)"
   ]
  },
  {
   "cell_type": "code",
   "execution_count": 9,
   "id": "bc06203b-b015-4a4d-9d96-604a0cadab38",
   "metadata": {},
   "outputs": [],
   "source": [
    "class MpiParser(BaseParser):\n",
    "    \n",
    "    @staticmethod \n",
    "    def parseStdout(stdout):\n",
    "        with open(stdout) as file:\n",
    "            data = file.read().splitlines()\n",
    "            \n",
    "        millis = None\n",
    "        for i, line in enumerate(data):\n",
    "            if re.match(f'^0: Elapsed time is', line):\n",
    "                millis = int(float(re.findall(r'\\d+.\\d+', line)[0]) * 1000)\n",
    "                break\n",
    "                \n",
    "        return millis\n",
    "    \n",
    "    @staticmethod \n",
    "    def parseFilename(filename):\n",
    "        sp = str(filename).split('-')\n",
    "        name = sp[0]\n",
    "        nodeCnt = int(sp[1][1:])\n",
    "        procCnt = int(sp[2][1:])\n",
    "        return procCnt, name, nodeCnt\n",
    "    \n",
    "    @staticmethod \n",
    "    def parse(path):\n",
    "        procCnt, name, nodeCnt = MpiParser.parseFilename(path.name)\n",
    "        millis = MpiParser.parseStdout(path / 'stdout')\n",
    "        return RunResult(name, millis, procCnt, RunResult.MPI, nodeCnt)"
   ]
  },
  {
   "cell_type": "code",
   "execution_count": 10,
   "id": "cca46eac-1ff5-4b45-ba04-9608b5d620b2",
   "metadata": {},
   "outputs": [
    {
     "name": "stdout",
     "output_type": "stream",
     "text": [
      "killed 0 set() \n",
      "\n",
      "computed 15 {'saj12-p20', 'saj12-p6', 'saj10-p8', 'saj12-p8', 'saj7-p6', 'saj7-p20', 'saj7-p12', 'saj7-p8', 'saj10-p12', 'saj12-p12', 'saj10-p6', 'saj12-p16', 'saj7-p16', 'saj10-p16', 'saj10-p20'}\n"
     ]
    }
   ],
   "source": [
    "mpiLst = []\n",
    "for p in pathlib.Path('mpi/out0').glob('*'):\n",
    "    mpiLst.append(MpiParser.parse(p))\n",
    "    \n",
    "taskKilled = set([ x.name+'-n'+str(x.nodeCnt)+'-p'+str(x.procCnt) for x in mpiLst if x.millis is None])\n",
    "taskAlive = set([ x.name+'-p'+str(x.procCnt) for x in mpiLst if x.millis is not None])\n",
    "print(\"killed\", len(taskKilled), taskKilled, \"\\n\")\n",
    "print(\"computed\", len(taskAlive), taskAlive)"
   ]
  },
  {
   "cell_type": "markdown",
   "id": "d572faf7-df35-4c3f-ace4-047c9463abde",
   "metadata": {},
   "source": [
    "# Graphing results\n",
    "\n",
    "Měřené instance jsou 7, 10, 12."
   ]
  },
  {
   "cell_type": "markdown",
   "id": "f90a77b2-3606-4bf1-978d-9b6c0a0f8481",
   "metadata": {},
   "source": [
    "## Create dataframe"
   ]
  },
  {
   "cell_type": "code",
   "execution_count": 11,
   "id": "8297f44f-b6b9-49ea-b39b-499fe2677a69",
   "metadata": {},
   "outputs": [],
   "source": [
    "m = ['saj7', 'saj10', 'saj12']\n",
    "ser = [x for x in serialLst if x.name in m ]\n",
    "mpt = [x for x in taskParLst if x.name in m ]\n",
    "mpd = [x for x in dataParLst if x.name in m ]\n",
    "mpi = [x for x in mpiLst if x.name in m ]"
   ]
  },
  {
   "cell_type": "code",
   "execution_count": 12,
   "id": "e2e11a02-a2b0-4c0c-8f91-c981942d0892",
   "metadata": {},
   "outputs": [
    {
     "data": {
      "text/html": [
       "<div>\n",
       "<style scoped>\n",
       "    .dataframe tbody tr th:only-of-type {\n",
       "        vertical-align: middle;\n",
       "    }\n",
       "\n",
       "    .dataframe tbody tr th {\n",
       "        vertical-align: top;\n",
       "    }\n",
       "\n",
       "    .dataframe thead th {\n",
       "        text-align: right;\n",
       "    }\n",
       "</style>\n",
       "<table border=\"1\" class=\"dataframe\">\n",
       "  <thead>\n",
       "    <tr style=\"text-align: right;\">\n",
       "      <th></th>\n",
       "      <th>type</th>\n",
       "      <th>instance</th>\n",
       "      <th>millis</th>\n",
       "      <th>proc</th>\n",
       "      <th>node</th>\n",
       "      <th>minuty</th>\n",
       "    </tr>\n",
       "  </thead>\n",
       "  <tbody>\n",
       "    <tr>\n",
       "      <th>0</th>\n",
       "      <td>serial</td>\n",
       "      <td>saj10</td>\n",
       "      <td>103666.0</td>\n",
       "      <td>1</td>\n",
       "      <td>NaN</td>\n",
       "      <td>1.727767</td>\n",
       "    </tr>\n",
       "    <tr>\n",
       "      <th>1</th>\n",
       "      <td>serial</td>\n",
       "      <td>saj12</td>\n",
       "      <td>489801.0</td>\n",
       "      <td>1</td>\n",
       "      <td>NaN</td>\n",
       "      <td>8.163350</td>\n",
       "    </tr>\n",
       "    <tr>\n",
       "      <th>2</th>\n",
       "      <td>serial</td>\n",
       "      <td>saj7</td>\n",
       "      <td>272536.0</td>\n",
       "      <td>1</td>\n",
       "      <td>NaN</td>\n",
       "      <td>4.542267</td>\n",
       "    </tr>\n",
       "    <tr>\n",
       "      <th>3</th>\n",
       "      <td>openmp-task</td>\n",
       "      <td>saj10</td>\n",
       "      <td>131979.0</td>\n",
       "      <td>1</td>\n",
       "      <td>NaN</td>\n",
       "      <td>2.199650</td>\n",
       "    </tr>\n",
       "    <tr>\n",
       "      <th>4</th>\n",
       "      <td>openmp-task</td>\n",
       "      <td>saj10</td>\n",
       "      <td>64735.0</td>\n",
       "      <td>10</td>\n",
       "      <td>NaN</td>\n",
       "      <td>1.078917</td>\n",
       "    </tr>\n",
       "    <tr>\n",
       "      <th>...</th>\n",
       "      <td>...</td>\n",
       "      <td>...</td>\n",
       "      <td>...</td>\n",
       "      <td>...</td>\n",
       "      <td>...</td>\n",
       "      <td>...</td>\n",
       "    </tr>\n",
       "    <tr>\n",
       "      <th>76</th>\n",
       "      <td>mpi</td>\n",
       "      <td>saj7</td>\n",
       "      <td>72642.0</td>\n",
       "      <td>12</td>\n",
       "      <td>4.0</td>\n",
       "      <td>1.210700</td>\n",
       "    </tr>\n",
       "    <tr>\n",
       "      <th>77</th>\n",
       "      <td>mpi</td>\n",
       "      <td>saj7</td>\n",
       "      <td>68517.0</td>\n",
       "      <td>16</td>\n",
       "      <td>4.0</td>\n",
       "      <td>1.141950</td>\n",
       "    </tr>\n",
       "    <tr>\n",
       "      <th>78</th>\n",
       "      <td>mpi</td>\n",
       "      <td>saj7</td>\n",
       "      <td>72602.0</td>\n",
       "      <td>20</td>\n",
       "      <td>4.0</td>\n",
       "      <td>1.210033</td>\n",
       "    </tr>\n",
       "    <tr>\n",
       "      <th>79</th>\n",
       "      <td>mpi</td>\n",
       "      <td>saj7</td>\n",
       "      <td>97800.0</td>\n",
       "      <td>6</td>\n",
       "      <td>4.0</td>\n",
       "      <td>1.630000</td>\n",
       "    </tr>\n",
       "    <tr>\n",
       "      <th>80</th>\n",
       "      <td>mpi</td>\n",
       "      <td>saj7</td>\n",
       "      <td>79120.0</td>\n",
       "      <td>8</td>\n",
       "      <td>4.0</td>\n",
       "      <td>1.318667</td>\n",
       "    </tr>\n",
       "  </tbody>\n",
       "</table>\n",
       "<p>81 rows × 6 columns</p>\n",
       "</div>"
      ],
      "text/plain": [
       "           type instance    millis  proc  node    minuty\n",
       "0        serial    saj10  103666.0     1   NaN  1.727767\n",
       "1        serial    saj12  489801.0     1   NaN  8.163350\n",
       "2        serial     saj7  272536.0     1   NaN  4.542267\n",
       "3   openmp-task    saj10  131979.0     1   NaN  2.199650\n",
       "4   openmp-task    saj10   64735.0    10   NaN  1.078917\n",
       "..          ...      ...       ...   ...   ...       ...\n",
       "76          mpi     saj7   72642.0    12   4.0  1.210700\n",
       "77          mpi     saj7   68517.0    16   4.0  1.141950\n",
       "78          mpi     saj7   72602.0    20   4.0  1.210033\n",
       "79          mpi     saj7   97800.0     6   4.0  1.630000\n",
       "80          mpi     saj7   79120.0     8   4.0  1.318667\n",
       "\n",
       "[81 rows x 6 columns]"
      ]
     },
     "metadata": {},
     "output_type": "display_data"
    }
   ],
   "source": [
    "import pandas as pd\n",
    "\n",
    "def runResultToList(r):\n",
    "    return r.runType.lower(), r.name, r.millis, r.procCnt, r.nodeCnt\n",
    "    \n",
    "lst = []\n",
    "for r in [item for x in [ser, mpt, mpd, mpi] for item in x]:\n",
    "    lst.append(runResultToList(r))\n",
    "df = pd.DataFrame(lst, columns=['type', 'instance', 'millis', 'proc', 'node'])\n",
    "df[\"minuty\"] = df[\"millis\"] / (1000*60)\n",
    "display(df)"
   ]
  },
  {
   "cell_type": "markdown",
   "id": "c7208d5c-c21b-4ff2-9ee5-38e8ea374004",
   "metadata": {},
   "source": [
    "## Plot"
   ]
  },
  {
   "cell_type": "markdown",
   "id": "9fe6510e-bc2d-40cb-9727-dbb68b91a56c",
   "metadata": {},
   "source": [
    "### 1. Porovnani nejvykonnejsich"
   ]
  },
  {
   "cell_type": "code",
   "execution_count": 13,
   "id": "0e9c54db-67ce-4830-91b9-036a8660b3e8",
   "metadata": {},
   "outputs": [
    {
     "data": {
      "text/html": [
       "<div>\n",
       "<style scoped>\n",
       "    .dataframe tbody tr th:only-of-type {\n",
       "        vertical-align: middle;\n",
       "    }\n",
       "\n",
       "    .dataframe tbody tr th {\n",
       "        vertical-align: top;\n",
       "    }\n",
       "\n",
       "    .dataframe thead th {\n",
       "        text-align: right;\n",
       "    }\n",
       "</style>\n",
       "<table border=\"1\" class=\"dataframe\">\n",
       "  <thead>\n",
       "    <tr style=\"text-align: right;\">\n",
       "      <th></th>\n",
       "      <th>type</th>\n",
       "      <th>instance</th>\n",
       "      <th>millis</th>\n",
       "      <th>proc</th>\n",
       "      <th>node</th>\n",
       "      <th>minuty</th>\n",
       "    </tr>\n",
       "  </thead>\n",
       "  <tbody>\n",
       "    <tr>\n",
       "      <th>0</th>\n",
       "      <td>serial</td>\n",
       "      <td>saj7</td>\n",
       "      <td>272536.0</td>\n",
       "      <td>1</td>\n",
       "      <td>NaN</td>\n",
       "      <td>4.542267</td>\n",
       "    </tr>\n",
       "    <tr>\n",
       "      <th>1</th>\n",
       "      <td>openmp-data</td>\n",
       "      <td>saj7</td>\n",
       "      <td>299.0</td>\n",
       "      <td>20</td>\n",
       "      <td>NaN</td>\n",
       "      <td>0.004983</td>\n",
       "    </tr>\n",
       "    <tr>\n",
       "      <th>2</th>\n",
       "      <td>mpi</td>\n",
       "      <td>saj7</td>\n",
       "      <td>72602.0</td>\n",
       "      <td>20</td>\n",
       "      <td>4.0</td>\n",
       "      <td>1.210033</td>\n",
       "    </tr>\n",
       "    <tr>\n",
       "      <th>3</th>\n",
       "      <td>serial</td>\n",
       "      <td>saj12</td>\n",
       "      <td>489801.0</td>\n",
       "      <td>1</td>\n",
       "      <td>NaN</td>\n",
       "      <td>8.163350</td>\n",
       "    </tr>\n",
       "    <tr>\n",
       "      <th>4</th>\n",
       "      <td>openmp-data</td>\n",
       "      <td>saj12</td>\n",
       "      <td>539183.0</td>\n",
       "      <td>20</td>\n",
       "      <td>NaN</td>\n",
       "      <td>8.986383</td>\n",
       "    </tr>\n",
       "    <tr>\n",
       "      <th>5</th>\n",
       "      <td>mpi</td>\n",
       "      <td>saj12</td>\n",
       "      <td>170979.0</td>\n",
       "      <td>20</td>\n",
       "      <td>4.0</td>\n",
       "      <td>2.849650</td>\n",
       "    </tr>\n",
       "    <tr>\n",
       "      <th>6</th>\n",
       "      <td>serial</td>\n",
       "      <td>saj10</td>\n",
       "      <td>103666.0</td>\n",
       "      <td>1</td>\n",
       "      <td>NaN</td>\n",
       "      <td>1.727767</td>\n",
       "    </tr>\n",
       "    <tr>\n",
       "      <th>7</th>\n",
       "      <td>openmp-data</td>\n",
       "      <td>saj10</td>\n",
       "      <td>82080.0</td>\n",
       "      <td>20</td>\n",
       "      <td>NaN</td>\n",
       "      <td>1.368000</td>\n",
       "    </tr>\n",
       "    <tr>\n",
       "      <th>8</th>\n",
       "      <td>mpi</td>\n",
       "      <td>saj10</td>\n",
       "      <td>31288.0</td>\n",
       "      <td>20</td>\n",
       "      <td>4.0</td>\n",
       "      <td>0.521467</td>\n",
       "    </tr>\n",
       "  </tbody>\n",
       "</table>\n",
       "</div>"
      ],
      "text/plain": [
       "          type instance    millis  proc  node    minuty\n",
       "0       serial     saj7  272536.0     1   NaN  4.542267\n",
       "1  openmp-data     saj7     299.0    20   NaN  0.004983\n",
       "2          mpi     saj7   72602.0    20   4.0  1.210033\n",
       "3       serial    saj12  489801.0     1   NaN  8.163350\n",
       "4  openmp-data    saj12  539183.0    20   NaN  8.986383\n",
       "5          mpi    saj12  170979.0    20   4.0  2.849650\n",
       "6       serial    saj10  103666.0     1   NaN  1.727767\n",
       "7  openmp-data    saj10   82080.0    20   NaN  1.368000\n",
       "8          mpi    saj10   31288.0    20   4.0  0.521467"
      ]
     },
     "metadata": {},
     "output_type": "display_data"
    }
   ],
   "source": [
    "dfCmp = df[\n",
    "    (df.type == \"serial\") |\n",
    "    ((df.type == \"openmp-data\") & (df.proc == 20)) |\n",
    "    (df.proc == 20) & (df.node == 4)\n",
    "].sort_values(by=[\"instance\", \"type\"], ascending=[False, False]).reset_index(drop=True)\n",
    "display(dfCmp)"
   ]
  },
  {
   "cell_type": "code",
   "execution_count": 14,
   "id": "eb97b394-afd6-4de4-8357-5e2beba7522d",
   "metadata": {},
   "outputs": [
    {
     "data": {
      "image/png": "[encoded data removed]",
      "text/plain": [
       "<Figure size 720x432 with 1 Axes>"
      ]
     },
     "metadata": {
      "needs_background": "light"
     },
     "output_type": "display_data"
    }
   ],
   "source": [
    "import matplotlib.pyplot as plt\n",
    "import numpy as np\n",
    "import seaborn as sns\n",
    "\n",
    "xticks = ['saj7', 'saj10', 'saj12']\n",
    "yticks = [dfCmp.millis[3*k:3*k+3].tolist() for k in range(3)]\n",
    "labels = [\"sekvenční\", \"OpenMP data, p=20\", \"MPI+OpenMP data, p=20, uzly=4\"]\n",
    "\n",
    "f = plt.figure(figsize=(10, 6))\n",
    "sns.barplot(x=\"instance\", hue=\"type\", y=\"minuty\", data=dfCmp)\n",
    "plt.show()\n",
    "f.savefig(\"img/porovnani-nejvykonnejsich.pdf\", bbox_inches='tight')"
   ]
  },
  {
   "cell_type": "code",
   "execution_count": 15,
   "id": "07ca2add-2d6d-4304-b3e9-b7a0131164bc",
   "metadata": {},
   "outputs": [],
   "source": [
    "###"
   ]
  },
  {
   "cell_type": "code",
   "execution_count": 16,
   "id": "05a0dcff-0b5c-416d-857c-e3b28c6cde58",
   "metadata": {},
   "outputs": [
    {
     "name": "stdout",
     "output_type": "stream",
     "text": [
      "<class 'pandas.core.frame.DataFrame'>\n",
      "RangeIndex: 81 entries, 0 to 80\n",
      "Data columns (total 6 columns):\n",
      " #   Column    Non-Null Count  Dtype  \n",
      "---  ------    --------------  -----  \n",
      " 0   type      81 non-null     object \n",
      " 1   instance  81 non-null     object \n",
      " 2   millis    79 non-null     float64\n",
      " 3   proc      81 non-null     int64  \n",
      " 4   node      30 non-null     float64\n",
      " 5   minuty    79 non-null     float64\n",
      "dtypes: float64(3), int64(1), object(2)\n",
      "memory usage: 3.9+ KB\n"
     ]
    }
   ],
   "source": [
    "# r = df[df.type == 'serial'].to_latex(\n",
    "#     columns=[\"instance\", \"minuty\"],\n",
    "#     caption=\"Výsledky měření sekvenčního algoritmu.\",\n",
    "#     label=\"tab:seq\",\n",
    "#     index=False,\n",
    "#     float_format=\"%.2f\"\n",
    "# )\n",
    "# print(r)\n",
    "df.info()"
   ]
  },
  {
   "cell_type": "code",
   "execution_count": 17,
   "id": "92506774-4740-40b2-b636-693980b59720",
   "metadata": {},
   "outputs": [],
   "source": [
    "# display(df[df.type == 'mpi'].sort_values(by=['instance', 'proc', 'node']))\n",
    "# print(len(df[df.type == 'mpi'].sort_values(by=['instance', 'proc', 'node'])))\n",
    "# df.type.unique()"
   ]
  },
  {
   "cell_type": "code",
   "execution_count": 79,
   "id": "e26c0639-2628-475f-a421-f59304faf79b",
   "metadata": {},
   "outputs": [
    {
     "data": {
      "text/html": [
       "<div>\n",
       "<style scoped>\n",
       "    .dataframe tbody tr th:only-of-type {\n",
       "        vertical-align: middle;\n",
       "    }\n",
       "\n",
       "    .dataframe tbody tr th {\n",
       "        vertical-align: top;\n",
       "    }\n",
       "\n",
       "    .dataframe thead th {\n",
       "        text-align: right;\n",
       "    }\n",
       "</style>\n",
       "<table border=\"1\" class=\"dataframe\">\n",
       "  <thead>\n",
       "    <tr style=\"text-align: right;\">\n",
       "      <th></th>\n",
       "      <th>type</th>\n",
       "      <th>instance</th>\n",
       "      <th>millis</th>\n",
       "      <th>proc</th>\n",
       "      <th>node</th>\n",
       "      <th>minuty</th>\n",
       "      <th>millisSU</th>\n",
       "      <th>parSpeedUp</th>\n",
       "    </tr>\n",
       "  </thead>\n",
       "  <tbody>\n",
       "    <tr>\n",
       "      <th>21</th>\n",
       "      <td>openmp-task</td>\n",
       "      <td>saj7</td>\n",
       "      <td>248.0</td>\n",
       "      <td>16</td>\n",
       "      <td>NaN</td>\n",
       "      <td>0.004133</td>\n",
       "      <td>272536.0</td>\n",
       "      <td>1098.935484</td>\n",
       "    </tr>\n",
       "    <tr>\n",
       "      <th>47</th>\n",
       "      <td>openmp-data</td>\n",
       "      <td>saj7</td>\n",
       "      <td>299.0</td>\n",
       "      <td>20</td>\n",
       "      <td>NaN</td>\n",
       "      <td>0.004983</td>\n",
       "      <td>272536.0</td>\n",
       "      <td>911.491639</td>\n",
       "    </tr>\n",
       "    <tr>\n",
       "      <th>44</th>\n",
       "      <td>openmp-data</td>\n",
       "      <td>saj7</td>\n",
       "      <td>346.0</td>\n",
       "      <td>10</td>\n",
       "      <td>NaN</td>\n",
       "      <td>0.005767</td>\n",
       "      <td>272536.0</td>\n",
       "      <td>787.676301</td>\n",
       "    </tr>\n",
       "    <tr>\n",
       "      <th>23</th>\n",
       "      <td>openmp-task</td>\n",
       "      <td>saj7</td>\n",
       "      <td>397.0</td>\n",
       "      <td>20</td>\n",
       "      <td>NaN</td>\n",
       "      <td>0.006617</td>\n",
       "      <td>272536.0</td>\n",
       "      <td>686.488665</td>\n",
       "    </tr>\n",
       "    <tr>\n",
       "      <th>45</th>\n",
       "      <td>openmp-data</td>\n",
       "      <td>saj7</td>\n",
       "      <td>423.0</td>\n",
       "      <td>16</td>\n",
       "      <td>NaN</td>\n",
       "      <td>0.007050</td>\n",
       "      <td>272536.0</td>\n",
       "      <td>644.293144</td>\n",
       "    </tr>\n",
       "    <tr>\n",
       "      <th>...</th>\n",
       "      <td>...</td>\n",
       "      <td>...</td>\n",
       "      <td>...</td>\n",
       "      <td>...</td>\n",
       "      <td>...</td>\n",
       "      <td>...</td>\n",
       "      <td>...</td>\n",
       "      <td>...</td>\n",
       "    </tr>\n",
       "    <tr>\n",
       "      <th>3</th>\n",
       "      <td>openmp-task</td>\n",
       "      <td>saj10</td>\n",
       "      <td>131979.0</td>\n",
       "      <td>1</td>\n",
       "      <td>NaN</td>\n",
       "      <td>2.199650</td>\n",
       "      <td>103666.0</td>\n",
       "      <td>0.785473</td>\n",
       "    </tr>\n",
       "    <tr>\n",
       "      <th>30</th>\n",
       "      <td>openmp-data</td>\n",
       "      <td>saj10</td>\n",
       "      <td>176881.0</td>\n",
       "      <td>2</td>\n",
       "      <td>NaN</td>\n",
       "      <td>2.948017</td>\n",
       "      <td>103666.0</td>\n",
       "      <td>0.586078</td>\n",
       "    </tr>\n",
       "    <tr>\n",
       "      <th>6</th>\n",
       "      <td>openmp-task</td>\n",
       "      <td>saj10</td>\n",
       "      <td>199301.0</td>\n",
       "      <td>2</td>\n",
       "      <td>NaN</td>\n",
       "      <td>3.321683</td>\n",
       "      <td>103666.0</td>\n",
       "      <td>0.520148</td>\n",
       "    </tr>\n",
       "    <tr>\n",
       "      <th>13</th>\n",
       "      <td>openmp-task</td>\n",
       "      <td>saj12</td>\n",
       "      <td>NaN</td>\n",
       "      <td>16</td>\n",
       "      <td>NaN</td>\n",
       "      <td>NaN</td>\n",
       "      <td>489801.0</td>\n",
       "      <td>NaN</td>\n",
       "    </tr>\n",
       "    <tr>\n",
       "      <th>14</th>\n",
       "      <td>openmp-task</td>\n",
       "      <td>saj12</td>\n",
       "      <td>NaN</td>\n",
       "      <td>2</td>\n",
       "      <td>NaN</td>\n",
       "      <td>NaN</td>\n",
       "      <td>489801.0</td>\n",
       "      <td>NaN</td>\n",
       "    </tr>\n",
       "  </tbody>\n",
       "</table>\n",
       "<p>81 rows × 8 columns</p>\n",
       "</div>"
      ],
      "text/plain": [
       "           type instance    millis  proc  node    minuty  millisSU  \\\n",
       "21  openmp-task     saj7     248.0    16   NaN  0.004133  272536.0   \n",
       "47  openmp-data     saj7     299.0    20   NaN  0.004983  272536.0   \n",
       "44  openmp-data     saj7     346.0    10   NaN  0.005767  272536.0   \n",
       "23  openmp-task     saj7     397.0    20   NaN  0.006617  272536.0   \n",
       "45  openmp-data     saj7     423.0    16   NaN  0.007050  272536.0   \n",
       "..          ...      ...       ...   ...   ...       ...       ...   \n",
       "3   openmp-task    saj10  131979.0     1   NaN  2.199650  103666.0   \n",
       "30  openmp-data    saj10  176881.0     2   NaN  2.948017  103666.0   \n",
       "6   openmp-task    saj10  199301.0     2   NaN  3.321683  103666.0   \n",
       "13  openmp-task    saj12       NaN    16   NaN       NaN  489801.0   \n",
       "14  openmp-task    saj12       NaN     2   NaN       NaN  489801.0   \n",
       "\n",
       "     parSpeedUp  \n",
       "21  1098.935484  \n",
       "47   911.491639  \n",
       "44   787.676301  \n",
       "23   686.488665  \n",
       "45   644.293144  \n",
       "..          ...  \n",
       "3      0.785473  \n",
       "30     0.586078  \n",
       "6      0.520148  \n",
       "13          NaN  \n",
       "14          NaN  \n",
       "\n",
       "[81 rows x 8 columns]"
      ]
     },
     "execution_count": 79,
     "metadata": {},
     "output_type": "execute_result"
    }
   ],
   "source": [
    "df"
   ]
  },
  {
   "cell_type": "markdown",
   "id": "6e66c1e8-4ead-4184-a920-f3568dc5141b",
   "metadata": {},
   "source": [
    "# Výpočet zrychlení"
   ]
  },
  {
   "cell_type": "code",
   "execution_count": 107,
   "id": "8369220a-90a2-450d-ba05-ac31a36b1d04",
   "metadata": {},
   "outputs": [],
   "source": [
    "saj7_SU = float(df[(df['type'] == 'serial') & (df['instance'] == 'saj7')].millis)\n",
    "saj10_SU = float(df[(df['type'] == 'serial') & (df['instance'] == 'saj10')].millis)\n",
    "saj12_SU = float(df[(df['type'] == 'serial') & (df['instance'] == 'saj12')].millis)\n",
    "\n",
    "def calculateParSpeedUp(row):\n",
    "    if row.instance == 'saj7':\n",
    "        return saj7_SU / row.millis\n",
    "    if row.instance == 'saj10':\n",
    "        return saj10_SU / row.millis\n",
    "    if row.instance == 'saj12':\n",
    "        return saj12_SU / row.millis\n",
    "    \n",
    "def addSU(x):\n",
    "    if x == 'saj7':\n",
    "        return saj7_SU\n",
    "    if x == 'saj10':\n",
    "        return saj10_SU\n",
    "    if x == 'saj12':\n",
    "        return saj12_SU\n",
    "    \n",
    "def calculateParCena(x):\n",
    "    m = 1\n",
    "    if not np.isnan(x.node):\n",
    "        m = x.node\n",
    "    return x.proc*m*x.millis\n",
    "    \n",
    "    \n",
    "    \n",
    "df['millisSU'] = df.instance.apply(lambda x: addSU(x))\n",
    "df['parSpeedUp'] = df.apply(lambda x: calculateParSpeedUp(x), axis=1)\n",
    "df['parCenaMillis'] = df.apply(lambda x: calculateParCena(x), axis=1)\n",
    "df['efektivita'] = df['millisSU'] / df['parCenaMillis']\n",
    "df = df.sort_values(by='parSpeedUp', ascending=False)"
   ]
  },
  {
   "cell_type": "code",
   "execution_count": 109,
   "id": "1d16c4f4-fc51-46e5-bb4a-104509c55b4e",
   "metadata": {},
   "outputs": [
    {
     "data": {
      "text/plain": [
       "array(['openmp-task', 'openmp-data', 'mpi', 'serial'], dtype=object)"
      ]
     },
     "execution_count": 109,
     "metadata": {},
     "output_type": "execute_result"
    }
   ],
   "source": [
    "df.type.unique()"
   ]
  },
  {
   "cell_type": "code",
   "execution_count": 127,
   "id": "a541500b-379b-42cc-93bb-2b6bbc2d8f87",
   "metadata": {},
   "outputs": [
    {
     "name": "stdout",
     "output_type": "stream",
     "text": [
      "0.849\t0.496\t0.295\t0.231\t0.159\t0.122\t0.107\t0.045\t"
     ]
    }
   ],
   "source": [
    "lst = df[(df.type == 'openmp-data') & (df.instance == 'saj12')].sort_values(by=['instance', 'proc']).reset_index().efektivita\n",
    "for x in lst:\n",
    "    print(f'{x:0.3f}', end='\\t')"
   ]
  },
  {
   "cell_type": "code",
   "execution_count": 131,
   "id": "09a4ec34-149f-4eb4-822b-b54b3737d20c",
   "metadata": {},
   "outputs": [
    {
     "name": "stdout",
     "output_type": "stream",
     "text": [
      "0.110\t0.095\t0.100\t0.084\t0.069\t0.064\t0.056\t0.046\t0.050\t0.036\t"
     ]
    }
   ],
   "source": [
    "for x in df[(df.type == 'mpi') & (df.instance == 'saj12')].sort_values(by=['proc', 'node'], ascending=[True, True]).efektivita.tolist():\n",
    "    print(f'{x:0.3f}', end='\\t')"
   ]
  }
 ],
 "metadata": {
  "kernelspec": {
   "display_name": "Python 3",
   "language": "python",
   "name": "python3"
  },
  "language_info": {
   "codemirror_mode": {
    "name": "ipython",
    "version": 3
   },
   "file_extension": ".py",
   "mimetype": "text/x-python",
   "name": "python",
   "nbconvert_exporter": "python",
   "pygments_lexer": "ipython3",
   "version": "3.9.4"
  }
 },
 "nbformat": 4,
 "nbformat_minor": 5
}
