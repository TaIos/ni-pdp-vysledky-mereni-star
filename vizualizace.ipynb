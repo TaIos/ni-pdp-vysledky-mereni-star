{
 "cells": [
  {
   "cell_type": "code",
   "execution_count": 1,
   "id": "78826500-1228-43a2-b082-b461d21a0d05",
   "metadata": {},
   "outputs": [],
   "source": [
    "import pathlib\n",
    "import re"
   ]
  },
  {
   "cell_type": "code",
   "execution_count": 2,
   "id": "865de26d-0889-4cce-ae90-51b4c52b5572",
   "metadata": {},
   "outputs": [],
   "source": [
    "class RunResult:\n",
    "    Serial=\"Serial\"\n",
    "    OpenMP=\"OpenMP\"\n",
    "    MPI=\"MPI\"\n",
    "    \n",
    "    def __init__(self, name, millis, procCnt, runType, nodeCnt=None):\n",
    "        self.name = name\n",
    "        self.millis = millis\n",
    "        self.procCnt = procCnt\n",
    "        self.nodeCnt = nodeCnt\n",
    "        self.runType = runType\n",
    "            \n",
    "        \n",
    "    def __str__(self):\n",
    "        return f\"\"\"\n",
    "        {self.name} ({self.runType})\\n\n",
    "        \\tDuration [ms]: {self.millis}\\n\n",
    "        \\tproc: {self.procCnt}\\n\n",
    "        \\tnode: {self.nodeCnt}\\n\n",
    "        \"\"\"\n",
    "class BaseParser:\n",
    "    \n",
    "    @staticmethod \n",
    "    def parseStdout(stdout):\n",
    "        with open(stdout) as file:\n",
    "            data = file.read().splitlines()\n",
    "            \n",
    "        millis = None\n",
    "        for i, line in enumerate(data):\n",
    "            if re.match(f'^Cena', line):\n",
    "                millis = int(data[i+1].split()[2])\n",
    "                break\n",
    "                \n",
    "        return millis"
   ]
  },
  {
   "cell_type": "markdown",
   "id": "17316db3-dd04-4028-97c4-5ca0184ad137",
   "metadata": {},
   "source": [
    "# Serial"
   ]
  },
  {
   "cell_type": "code",
   "execution_count": 3,
   "id": "06196782-f500-4b6e-8479-bf8ce8c717f7",
   "metadata": {},
   "outputs": [
    {
     "name": "stdout",
     "output_type": "stream",
     "text": [
      "Killed {'saj6-p1'}\n"
     ]
    }
   ],
   "source": [
    "class SerialParser(BaseParser):\n",
    "    \n",
    "    @staticmethod \n",
    "    def parseFilename(filename):\n",
    "        return 1, str(filename)\n",
    "    \n",
    "    @staticmethod \n",
    "    def parse(path):\n",
    "        procCnt, name = SerialParser.parseFilename(path.name)\n",
    "        millis = SerialParser.parseStdout(path / 'stdout')\n",
    "        return RunResult(name, millis, procCnt, RunResult.Serial)\n",
    "    \n",
    "\n",
    "pSerial = pathlib.Path('serial')\n",
    "serialLst = []\n",
    "for p in pSerial.glob('*'):\n",
    "    serialLst.append(SerialParser.parse(p))\n",
    "    \n",
    "serialKilled = set([x.name+'-p'+str(x.procCnt) for x in serialLst if x.millis is None])\n",
    "print(f'Killed {serialKilled}')"
   ]
  },
  {
   "cell_type": "markdown",
   "id": "99d44fb2-a71f-4b3e-bb10-68723b8dbc75",
   "metadata": {},
   "source": [
    "# OpenMP"
   ]
  },
  {
   "cell_type": "code",
   "execution_count": 4,
   "id": "44289451-0dd9-417d-aba6-7022bf31515d",
   "metadata": {},
   "outputs": [],
   "source": [
    "class OpenMpParser(BaseParser):\n",
    "    \n",
    "    @staticmethod \n",
    "    def parseFilename(filename):\n",
    "        sp = str(filename).split('-')\n",
    "        name = sp[0]\n",
    "        procCnt = int(sp[1][1:])\n",
    "        return procCnt, name\n",
    "    \n",
    "    @staticmethod \n",
    "    def parse(path):\n",
    "        procCnt, name = OpenMpParser.parseFilename(path.name)\n",
    "        millis = OpenMpParser.parseStdout(path / 'stdout')\n",
    "        return RunResult(name, millis, procCnt, RunResult.OpenMP)"
   ]
  },
  {
   "cell_type": "markdown",
   "id": "0b500b9f-5025-4740-bc19-8ea129a38d02",
   "metadata": {},
   "source": [
    "## Task parallelism"
   ]
  },
  {
   "cell_type": "code",
   "execution_count": 5,
   "id": "e3cbac6c-0928-426f-8a94-7637f5dda027",
   "metadata": {},
   "outputs": [
    {
     "name": "stdout",
     "output_type": "stream",
     "text": [
      "Killed {'saj12-p2', 'saj12-p16'}\n"
     ]
    }
   ],
   "source": [
    "pTaskPar = pathlib.Path('openmp/task-par/out')\n",
    "taskParLst = []\n",
    "for p in pTaskPar.glob('*'):\n",
    "    taskParLst.append(OpenMpParser.parse(p))\n",
    "    \n",
    "taskKilled = set([ x.name+'-p'+str(x.procCnt) for x in taskParLst if x.millis is None])\n",
    "print(f'Killed {taskKilled}')"
   ]
  },
  {
   "cell_type": "markdown",
   "id": "0d151b94-871a-4f03-ae34-ae0343cb7999",
   "metadata": {},
   "source": [
    "## Task parallelism [threshold]"
   ]
  },
  {
   "cell_type": "code",
   "execution_count": 6,
   "id": "902e2a34-5097-47bb-909a-b8ae4ab7d9fb",
   "metadata": {},
   "outputs": [
    {
     "name": "stdout",
     "output_type": "stream",
     "text": [
      "threshold | killed\n",
      "\t2: 13\n",
      "\t4: 6\n",
      "\t6: 18\n",
      "\t8: 11\n",
      "\t10: 12\n",
      "\t12: 9\n"
     ]
    }
   ],
   "source": [
    "taskParDict = dict.fromkeys([2, 4, 6, 8, 10, 12])\n",
    "\n",
    "for t in taskParDict.keys():\n",
    "    tmp = []\n",
    "    for p in pathlib.Path(f'openmp/task-par-threshold/out-t{t}').glob('*'):\n",
    "        tmp.append(OpenMpParser.parse(p))\n",
    "    taskParDict[t] = tmp\n",
    "    \n",
    "print('threshold | killed')\n",
    "for t in taskParDict.keys():\n",
    "    print(f'\\t{t}: {len([x for x in taskParDict[t] if x.millis is not None])}')"
   ]
  },
  {
   "cell_type": "markdown",
   "id": "94401c0b-27bd-4943-954b-dad65c1397ee",
   "metadata": {},
   "source": [
    "## Data parallelism "
   ]
  },
  {
   "cell_type": "code",
   "execution_count": 7,
   "id": "70847540-9411-476f-b3ea-900858be734a",
   "metadata": {},
   "outputs": [
    {
     "name": "stdout",
     "output_type": "stream",
     "text": [
      "Killed set()\n"
     ]
    }
   ],
   "source": [
    "pDataPar = pathlib.Path('openmp/data-par/out0')\n",
    "dataParLst = []\n",
    "for p in pDataPar.glob('*'):\n",
    "    dataParLst.append(OpenMpParser.parse(p))\n",
    "\n",
    "dataKilled = set([x.name+'-p'+str(x.procCnt) for x in dataParLst if x.millis is None])\n",
    "print(f'Killed {dataKilled}')"
   ]
  },
  {
   "cell_type": "markdown",
   "id": "eb01ebfa-38f8-4155-adb2-e599d5776aff",
   "metadata": {},
   "source": [
    "# MPI"
   ]
  },
  {
   "cell_type": "code",
   "execution_count": 8,
   "id": "f8f9ef38-775d-4b99-b883-ae71506ee398",
   "metadata": {},
   "outputs": [
    {
     "data": {
      "text/plain": [
       "['47.276555']"
      ]
     },
     "execution_count": 8,
     "metadata": {},
     "output_type": "execute_result"
    }
   ],
   "source": [
    "line = \"0: Elapsed time is 47.276555.\"\n",
    "re.findall(r'\\d+.\\d+', line)"
   ]
  },
  {
   "cell_type": "code",
   "execution_count": 9,
   "id": "bc06203b-b015-4a4d-9d96-604a0cadab38",
   "metadata": {},
   "outputs": [],
   "source": [
    "class MpiParser(BaseParser):\n",
    "    \n",
    "    @staticmethod \n",
    "    def parseStdout(stdout):\n",
    "        with open(stdout) as file:\n",
    "            data = file.read().splitlines()\n",
    "            \n",
    "        millis = None\n",
    "        for i, line in enumerate(data):\n",
    "            if re.match(f'^0: Elapsed time is', line):\n",
    "                millis = int(float(re.findall(r'\\d+.\\d+', line)[0]) * 1000)\n",
    "                break\n",
    "                \n",
    "        return millis\n",
    "    \n",
    "    @staticmethod \n",
    "    def parseFilename(filename):\n",
    "        sp = str(filename).split('-')\n",
    "        name = sp[0]\n",
    "        nodeCnt = int(sp[1][1:])\n",
    "        procCnt = int(sp[2][1:])\n",
    "        return procCnt, name, nodeCnt\n",
    "    \n",
    "    @staticmethod \n",
    "    def parse(path):\n",
    "        procCnt, name, nodeCnt = MpiParser.parseFilename(path.name)\n",
    "        millis = MpiParser.parseStdout(path / 'stdout')\n",
    "        return RunResult(name, millis, procCnt, RunResult.MPI, nodeCnt)"
   ]
  },
  {
   "cell_type": "code",
   "execution_count": 10,
   "id": "cca46eac-1ff5-4b45-ba04-9608b5d620b2",
   "metadata": {},
   "outputs": [
    {
     "name": "stdout",
     "output_type": "stream",
     "text": [
      "killed 0 set() \n",
      "\n",
      "computed 15 {'saj12-p8', 'saj10-p8', 'saj7-p6', 'saj7-p8', 'saj10-p16', 'saj7-p12', 'saj10-p20', 'saj12-p12', 'saj12-p6', 'saj10-p6', 'saj12-p16', 'saj12-p20', 'saj7-p20', 'saj7-p16', 'saj10-p12'}\n"
     ]
    }
   ],
   "source": [
    "mpiLst = []\n",
    "for p in pathlib.Path('mpi/out0').glob('*'):\n",
    "    mpiLst.append(MpiParser.parse(p))\n",
    "    \n",
    "taskKilled = set([ x.name+'-n'+str(x.nodeCnt)+'-p'+str(x.procCnt) for x in mpiLst if x.millis is None])\n",
    "taskAlive = set([ x.name+'-p'+str(x.procCnt) for x in mpiLst if x.millis is not None])\n",
    "print(\"killed\", len(taskKilled), taskKilled, \"\\n\")\n",
    "print(\"computed\", len(taskAlive), taskAlive)"
   ]
  },
  {
   "cell_type": "markdown",
   "id": "d572faf7-df35-4c3f-ace4-047c9463abde",
   "metadata": {},
   "source": [
    "# Graphing results\n",
    "\n",
    "Měřené instance jsou 7, 10, 12."
   ]
  },
  {
   "cell_type": "code",
   "execution_count": 11,
   "id": "8297f44f-b6b9-49ea-b39b-499fe2677a69",
   "metadata": {},
   "outputs": [],
   "source": [
    "m = ['saj7', 'saj10', 'saj12']\n",
    "ser = [x for x in serialLst if x.name in m ]\n",
    "mpt = [x for x in taskParLst if x.name in m ]\n",
    "mpd = [x for x in dataParLst if x.name in m ]\n",
    "mpi = [x for x in mpiLst if x.name in m ]"
   ]
  },
  {
   "cell_type": "code",
   "execution_count": 12,
   "id": "e2e11a02-a2b0-4c0c-8f91-c981942d0892",
   "metadata": {},
   "outputs": [
    {
     "data": {
      "text/html": [
       "<div>\n",
       "<style scoped>\n",
       "    .dataframe tbody tr th:only-of-type {\n",
       "        vertical-align: middle;\n",
       "    }\n",
       "\n",
       "    .dataframe tbody tr th {\n",
       "        vertical-align: top;\n",
       "    }\n",
       "\n",
       "    .dataframe thead th {\n",
       "        text-align: right;\n",
       "    }\n",
       "</style>\n",
       "<table border=\"1\" class=\"dataframe\">\n",
       "  <thead>\n",
       "    <tr style=\"text-align: right;\">\n",
       "      <th></th>\n",
       "      <th>type</th>\n",
       "      <th>instance</th>\n",
       "      <th>millis</th>\n",
       "      <th>proc</th>\n",
       "      <th>node</th>\n",
       "    </tr>\n",
       "  </thead>\n",
       "  <tbody>\n",
       "    <tr>\n",
       "      <th>0</th>\n",
       "      <td>Serial</td>\n",
       "      <td>saj10</td>\n",
       "      <td>103666.0</td>\n",
       "      <td>1</td>\n",
       "      <td>NaN</td>\n",
       "    </tr>\n",
       "    <tr>\n",
       "      <th>1</th>\n",
       "      <td>Serial</td>\n",
       "      <td>saj12</td>\n",
       "      <td>489801.0</td>\n",
       "      <td>1</td>\n",
       "      <td>NaN</td>\n",
       "    </tr>\n",
       "    <tr>\n",
       "      <th>2</th>\n",
       "      <td>Serial</td>\n",
       "      <td>saj7</td>\n",
       "      <td>272536.0</td>\n",
       "      <td>1</td>\n",
       "      <td>NaN</td>\n",
       "    </tr>\n",
       "    <tr>\n",
       "      <th>3</th>\n",
       "      <td>OpenMP</td>\n",
       "      <td>saj10</td>\n",
       "      <td>131979.0</td>\n",
       "      <td>1</td>\n",
       "      <td>NaN</td>\n",
       "    </tr>\n",
       "    <tr>\n",
       "      <th>4</th>\n",
       "      <td>OpenMP</td>\n",
       "      <td>saj10</td>\n",
       "      <td>64735.0</td>\n",
       "      <td>10</td>\n",
       "      <td>NaN</td>\n",
       "    </tr>\n",
       "    <tr>\n",
       "      <th>...</th>\n",
       "      <td>...</td>\n",
       "      <td>...</td>\n",
       "      <td>...</td>\n",
       "      <td>...</td>\n",
       "      <td>...</td>\n",
       "    </tr>\n",
       "    <tr>\n",
       "      <th>76</th>\n",
       "      <td>MPI</td>\n",
       "      <td>saj7</td>\n",
       "      <td>72642.0</td>\n",
       "      <td>12</td>\n",
       "      <td>4.0</td>\n",
       "    </tr>\n",
       "    <tr>\n",
       "      <th>77</th>\n",
       "      <td>MPI</td>\n",
       "      <td>saj7</td>\n",
       "      <td>68517.0</td>\n",
       "      <td>16</td>\n",
       "      <td>4.0</td>\n",
       "    </tr>\n",
       "    <tr>\n",
       "      <th>78</th>\n",
       "      <td>MPI</td>\n",
       "      <td>saj7</td>\n",
       "      <td>72602.0</td>\n",
       "      <td>20</td>\n",
       "      <td>4.0</td>\n",
       "    </tr>\n",
       "    <tr>\n",
       "      <th>79</th>\n",
       "      <td>MPI</td>\n",
       "      <td>saj7</td>\n",
       "      <td>97800.0</td>\n",
       "      <td>6</td>\n",
       "      <td>4.0</td>\n",
       "    </tr>\n",
       "    <tr>\n",
       "      <th>80</th>\n",
       "      <td>MPI</td>\n",
       "      <td>saj7</td>\n",
       "      <td>79120.0</td>\n",
       "      <td>8</td>\n",
       "      <td>4.0</td>\n",
       "    </tr>\n",
       "  </tbody>\n",
       "</table>\n",
       "<p>81 rows × 5 columns</p>\n",
       "</div>"
      ],
      "text/plain": [
       "      type instance    millis  proc  node\n",
       "0   Serial    saj10  103666.0     1   NaN\n",
       "1   Serial    saj12  489801.0     1   NaN\n",
       "2   Serial     saj7  272536.0     1   NaN\n",
       "3   OpenMP    saj10  131979.0     1   NaN\n",
       "4   OpenMP    saj10   64735.0    10   NaN\n",
       "..     ...      ...       ...   ...   ...\n",
       "76     MPI     saj7   72642.0    12   4.0\n",
       "77     MPI     saj7   68517.0    16   4.0\n",
       "78     MPI     saj7   72602.0    20   4.0\n",
       "79     MPI     saj7   97800.0     6   4.0\n",
       "80     MPI     saj7   79120.0     8   4.0\n",
       "\n",
       "[81 rows x 5 columns]"
      ]
     },
     "metadata": {},
     "output_type": "display_data"
    }
   ],
   "source": [
    "import pandas as pd\n",
    "\n",
    "def runResultToList(r):\n",
    "    return r.runType, r.name, r.millis, r.procCnt, r.nodeCnt\n",
    "    \n",
    "lst = []\n",
    "for r in [item for x in [ser, mpt, mpd, mpi] for item in x]:\n",
    "    lst.append(runResultToList(r))\n",
    "df = pd.DataFrame(lst, columns=['type', 'instance', 'millis', 'proc', 'node'])\n",
    "display(df)"
   ]
  }
 ],
 "metadata": {
  "kernelspec": {
   "display_name": "Python 3",
   "language": "python",
   "name": "python3"
  },
  "language_info": {
   "codemirror_mode": {
    "name": "ipython",
    "version": 3
   },
   "file_extension": ".py",
   "mimetype": "text/x-python",
   "name": "python",
   "nbconvert_exporter": "python",
   "pygments_lexer": "ipython3",
   "version": "3.9.4"
  }
 },
 "nbformat": 4,
 "nbformat_minor": 5
}
